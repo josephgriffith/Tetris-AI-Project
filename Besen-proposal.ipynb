{
 "cells": [
  {
   "cell_type": "markdown",
   "metadata": {},
   "source": [
    "$\\newcommand{\\xv}{\\mathbf{x}}\n",
    "\\newcommand{\\Xv}{\\mathbf{X}}\n",
    "\\newcommand{\\yv}{\\mathbf{y}}\n",
    "\\newcommand{\\zv}{\\mathbf{z}}\n",
    "\\newcommand{\\av}{\\mathbf{a}}\n",
    "\\newcommand{\\Wv}{\\mathbf{W}}\n",
    "\\newcommand{\\wv}{\\mathbf{w}}\n",
    "\\newcommand{\\tv}{\\mathbf{t}}\n",
    "\\newcommand{\\Tv}{\\mathbf{T}}\n",
    "\\newcommand{\\muv}{\\boldsymbol{\\mu}}\n",
    "\\newcommand{\\sigmav}{\\boldsymbol{\\sigma}}\n",
    "\\newcommand{\\phiv}{\\boldsymbol{\\phi}}\n",
    "\\newcommand{\\Phiv}{\\boldsymbol{\\Phi}}\n",
    "\\newcommand{\\Sigmav}{\\boldsymbol{\\Sigma}}\n",
    "\\newcommand{\\Lambdav}{\\boldsymbol{\\Lambda}}\n",
    "\\newcommand{\\half}{\\frac{1}{2}}\n",
    "\\newcommand{\\argmax}[1]{\\underset{#1}{\\operatorname{argmax}}}\n",
    "\\newcommand{\\argmin}[1]{\\underset{#1}{\\operatorname{argmin}}}$"
   ]
  },
  {
   "cell_type": "markdown",
   "metadata": {},
   "source": [
    "# Project Proposal"
   ]
  },
  {
   "cell_type": "markdown",
   "metadata": {},
   "source": [
    "David K. Besen & Joseph Griffith"
   ]
  },
  {
   "cell_type": "markdown",
   "metadata": {},
   "source": [
    "## Introduction"
   ]
  },
  {
   "cell_type": "markdown",
   "metadata": {},
   "source": [
    "We intend to write an AI capable of playing a simplified version of Tetris.\n",
    "\n",
    "Existing Tetris AIs use some hardcoded knowledge about the game, such as the knowledge that lower is better, holes are bad, bumpiness is bad, etc.  We intend to implement a Tetris-playing algorithm which is told only that losing the game is bad, and therefore playing longer (and scoring lines) is good.\n",
    "\n",
    "For simplicity, we will ignore the speed aspect of the game, and focus only on Tetromino placement.  We intend to use a neural network to calculate Q values using the board and pieces as input.  The output will be a rotation and position of the current piece.  We will not use any piece lookahead.  We will make some simplifying changes to the rules of Tetris to make implementation easier, such as not allowing T-spins or placing pieces under overhangs.\n",
    "\n",
    "Code we will borrow or write:\n",
    " - We will borrow the neural network code given in class\n",
    " - We will write (or borrow if possible) the rules for Tetris\n",
    "   - Function to make a move that involves removing completed lines\n",
    "   - Function that returns the list of possible moves given a board and piece\n",
    "   - Function that detects if the game is over\n",
    "   - Generate pieces pseudorandomly\n",
    " - We will write code to interface between the Tetris code and the neural network code\n",
    " - We will write code to display:\n",
    "   - One state of the board\n",
    "   - Animations for seeing the progress of the game (not piece movement)\n",
    " - We will borrow/write code to make graphs to see the progress of the AI learning\n",
    "\n",
    "Data that we will use: None that we're aware of, other than the rules of Tetris.\n",
    "\n",
    "We will try to answer the question of how best to organize the neural network.  Are more layers better, or not?  Will we get results comparable to other Tetris AIs, or will ours be worse since the others are using more information?\n",
    "\n",
    "The members of our team are David Besen and Joseph Griffith.\n",
    "\n",
    "(Dave) I'm interested in this AI algorithm because I've played Tetris since its release in 1984 (I was 5 years old at the time), and I think it will be fun to implement.\n",
    "\n",
    "(Joe) I'm interested in the seemingly endless applications of AI, and how it can be implemented to solve problems or emulate thought."
   ]
  },
  {
   "cell_type": "markdown",
   "metadata": {},
   "source": [
    "## Methods"
   ]
  },
  {
   "cell_type": "markdown",
   "metadata": {},
   "source": [
    "We're not sure if it will be easier to use an already-existing implementation of Tetris in Python, or if it will be more expedient to implement it ourselves.  So first we will investigate existing Tetris implementations, and then if none are easy enough to use for this project, we will implement one.\n",
    "\n",
    "For the algorithm, we intend to use the neural network code provided in class, along with code we will write to adapt the neural network to this problem.\n",
    "\n",
    "For dividing up the work, we will use pair programming techniques when possible.  In order to figure out what's required for integrating the neural network, we will have to have a few meetings to figure out what to do.  After we figure out what needs to be done, we will divide up the remainder of the work at that time.\n",
    "\n",
    "So far, the work that we understand needs to be done will be divided up this way:\n",
    "\n",
    " - Dave: Find/write code for the Tetris rules/functions\n",
    " - Joe: Display of boards, animations, progress graphs\n",
    "\n",
    "We will both do common tasks like testing and refining parameters, and we will load balance tasks as needed.\n",
    "\n",
    "We will use a private git repository to aid in collaboration."
   ]
  },
  {
   "cell_type": "markdown",
   "metadata": {},
   "source": [
    "## Possible Results\n",
    "\n",
    "We suspect that existing AIs will outperform ours, since they have had a long time to be developed and refined, and because they have access to more information about the problem (i.e. heuristics that humans have come up with to improve their behavior).\n",
    "\n",
    "The playing field is 10x22, and each position may be filled or empty, so there are 2^220 possible board states (minus a few losing states).  Based on that, a simple reinforcement learning table would not fit in memory.  So, the difficult part of this problem is how to use the neural network to represent the Q table.  "
   ]
  },
  {
   "cell_type": "markdown",
   "metadata": {},
   "source": [
    "## Timeline\n",
    "\n",
    "Make a list with at least four entries with dates and describe what each team member will accomplish by these dates.  This is for your use.  Your grade will not depend on meeting these deadlines.\n",
    "\n",
    "We have around four or five weeks for the project.  We intend to meet these deadlines:\n",
    "- By Fri., Nov. 10: Figure out what needs to be done regarding the neural network Q table implementation\n",
    "- By Fri., Nov. 17: Find or implement the tetris representation & implement the AI that uses the representation\n",
    "- By Fri., Nov. 24: Tune the AI's parameters for best results\n",
    "- By Fri., Dec. 1: Write the project written report\n"
   ]
  }
 ],
 "metadata": {
  "kernelspec": {
   "display_name": "Python 3",
   "language": "python",
   "name": "python3"
  },
  "language_info": {
   "codemirror_mode": {
    "name": "ipython",
    "version": 3
   },
   "file_extension": ".py",
   "mimetype": "text/x-python",
   "name": "python",
   "nbconvert_exporter": "python",
   "pygments_lexer": "ipython3",
   "version": "3.6.1"
  }
 },
 "nbformat": 4,
 "nbformat_minor": 1
}
